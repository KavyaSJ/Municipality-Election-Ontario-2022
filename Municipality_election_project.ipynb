{
 "cells": [
  {
   "cell_type": "code",
   "execution_count": 2,
   "id": "2a2b47eb-d6c5-48b6-8d15-8e888b45b00f",
   "metadata": {},
   "outputs": [],
   "source": [
    "import numpy as np\n",
    "import pandas as pd\n",
    "import matplotlib.pyplot as plt\n",
    "%matplotlib inline\n",
    "\n",
    "import random\n",
    "import math\n",
    "import seaborn as sns\n",
    "import statistics "
   ]
  },
  {
   "cell_type": "code",
   "execution_count": 3,
   "id": "e34c18e8-25fd-4268-8567-7ccb4db2c7ae",
   "metadata": {},
   "outputs": [
    {
     "data": {
      "text/html": [
       "<div>\n",
       "<style scoped>\n",
       "    .dataframe tbody tr th:only-of-type {\n",
       "        vertical-align: middle;\n",
       "    }\n",
       "\n",
       "    .dataframe tbody tr th {\n",
       "        vertical-align: top;\n",
       "    }\n",
       "\n",
       "    .dataframe thead th {\n",
       "        text-align: right;\n",
       "    }\n",
       "</style>\n",
       "<table border=\"1\" class=\"dataframe\">\n",
       "  <thead>\n",
       "    <tr style=\"text-align: right;\">\n",
       "      <th></th>\n",
       "      <th>MUNICIPALITY</th>\n",
       "      <th>LAST_NAME</th>\n",
       "      <th>FIRST_NAME</th>\n",
       "      <th>OFFICE_FILLED</th>\n",
       "      <th>VOTES_FOR_CANDIDATE</th>\n",
       "      <th>VOTES_FOR_OFFICE</th>\n",
       "      <th>ELECTED_OR_ACCLAIMED</th>\n",
       "      <th>COUNCIL_INCUMBENT</th>\n",
       "      <th>OFFICE_INCUMBENT</th>\n",
       "      <th>OFFICE_SUBJECT_TO_RECOUNT</th>\n",
       "    </tr>\n",
       "  </thead>\n",
       "  <tbody>\n",
       "    <tr>\n",
       "      <th>0</th>\n",
       "      <td>Addington Highlands Tp</td>\n",
       "      <td>Hogg</td>\n",
       "      <td>Henry</td>\n",
       "      <td>Reeve</td>\n",
       "      <td>980.0</td>\n",
       "      <td>1539.0</td>\n",
       "      <td>Elected</td>\n",
       "      <td>Yes</td>\n",
       "      <td>Yes</td>\n",
       "      <td>No</td>\n",
       "    </tr>\n",
       "    <tr>\n",
       "      <th>1</th>\n",
       "      <td>Addington Highlands Tp</td>\n",
       "      <td>Fritsch</td>\n",
       "      <td>Tony</td>\n",
       "      <td>Local Councillor</td>\n",
       "      <td>464.0</td>\n",
       "      <td>1226.0</td>\n",
       "      <td>Elected</td>\n",
       "      <td>Yes</td>\n",
       "      <td>Yes</td>\n",
       "      <td>No</td>\n",
       "    </tr>\n",
       "    <tr>\n",
       "      <th>2</th>\n",
       "      <td>Addington Highlands Tp</td>\n",
       "      <td>Thompson</td>\n",
       "      <td>Kirby</td>\n",
       "      <td>Local Councillor</td>\n",
       "      <td>377.0</td>\n",
       "      <td>1226.0</td>\n",
       "      <td>Elected</td>\n",
       "      <td>Yes</td>\n",
       "      <td>Yes</td>\n",
       "      <td>No</td>\n",
       "    </tr>\n",
       "    <tr>\n",
       "      <th>3</th>\n",
       "      <td>Addington Highlands Tp</td>\n",
       "      <td>Yanch</td>\n",
       "      <td>E. Helen</td>\n",
       "      <td>Local Councillor</td>\n",
       "      <td>366.0</td>\n",
       "      <td>1482.0</td>\n",
       "      <td>Elected</td>\n",
       "      <td>Yes</td>\n",
       "      <td>Yes</td>\n",
       "      <td>No</td>\n",
       "    </tr>\n",
       "    <tr>\n",
       "      <th>4</th>\n",
       "      <td>Addington Highlands Tp</td>\n",
       "      <td>Hook</td>\n",
       "      <td>Kenneth</td>\n",
       "      <td>Local Councillor</td>\n",
       "      <td>563.0</td>\n",
       "      <td>1482.0</td>\n",
       "      <td>Elected</td>\n",
       "      <td>No</td>\n",
       "      <td>No</td>\n",
       "      <td>No</td>\n",
       "    </tr>\n",
       "  </tbody>\n",
       "</table>\n",
       "</div>"
      ],
      "text/plain": [
       "             MUNICIPALITY LAST_NAME FIRST_NAME     OFFICE_FILLED  \\\n",
       "0  Addington Highlands Tp      Hogg      Henry             Reeve   \n",
       "1  Addington Highlands Tp   Fritsch       Tony  Local Councillor   \n",
       "2  Addington Highlands Tp  Thompson      Kirby  Local Councillor   \n",
       "3  Addington Highlands Tp     Yanch   E. Helen  Local Councillor   \n",
       "4  Addington Highlands Tp      Hook    Kenneth  Local Councillor   \n",
       "\n",
       "   VOTES_FOR_CANDIDATE  VOTES_FOR_OFFICE ELECTED_OR_ACCLAIMED  \\\n",
       "0                980.0            1539.0              Elected   \n",
       "1                464.0            1226.0              Elected   \n",
       "2                377.0            1226.0              Elected   \n",
       "3                366.0            1482.0              Elected   \n",
       "4                563.0            1482.0              Elected   \n",
       "\n",
       "  COUNCIL_INCUMBENT OFFICE_INCUMBENT OFFICE_SUBJECT_TO_RECOUNT  \n",
       "0               Yes              Yes                        No  \n",
       "1               Yes              Yes                        No  \n",
       "2               Yes              Yes                        No  \n",
       "3               Yes              Yes                        No  \n",
       "4                No               No                        No  "
      ]
     },
     "execution_count": 3,
     "metadata": {},
     "output_type": "execute_result"
    }
   ],
   "source": [
    "url = \"https://data.ontario.ca/dataset/a5871234-ed52-4c79-af33-b205aee59fd3/resource/7f408f5e-71c7-43fa-82bf-5eb8be77b9a7/download/2022_municipal_election_-_successful_candidate_data_as_of_voting_day.csv\"\n",
    "\n",
    "df = pd.read_csv(url, encoding='latin1')\n",
    "df.head()"
   ]
  },
  {
   "cell_type": "markdown",
   "id": "183019b5-63cd-4406-815f-9658da3bf58f",
   "metadata": {},
   "source": [
    "## Exporing Data"
   ]
  },
  {
   "cell_type": "code",
   "execution_count": 4,
   "id": "b87b1f13-7a44-457e-809c-1dd318b11517",
   "metadata": {},
   "outputs": [
    {
     "name": "stdout",
     "output_type": "stream",
     "text": [
      "<class 'pandas.core.frame.DataFrame'>\n",
      "RangeIndex: 2798 entries, 0 to 2797\n",
      "Data columns (total 10 columns):\n",
      " #   Column                     Non-Null Count  Dtype  \n",
      "---  ------                     --------------  -----  \n",
      " 0   MUNICIPALITY               2798 non-null   object \n",
      " 1   LAST_NAME                  2796 non-null   object \n",
      " 2   FIRST_NAME                 2796 non-null   object \n",
      " 3   OFFICE_FILLED              2798 non-null   object \n",
      " 4   VOTES_FOR_CANDIDATE        2252 non-null   float64\n",
      " 5   VOTES_FOR_OFFICE           2153 non-null   float64\n",
      " 6   ELECTED_OR_ACCLAIMED       2796 non-null   object \n",
      " 7   COUNCIL_INCUMBENT          2796 non-null   object \n",
      " 8   OFFICE_INCUMBENT           2796 non-null   object \n",
      " 9   OFFICE_SUBJECT_TO_RECOUNT  2655 non-null   object \n",
      "dtypes: float64(2), object(8)\n",
      "memory usage: 218.7+ KB\n"
     ]
    }
   ],
   "source": [
    "df.info()"
   ]
  },
  {
   "cell_type": "markdown",
   "id": "f4157153-e639-4c81-83f1-654f028e813a",
   "metadata": {},
   "source": [
    "* Need to fill null values.\n",
    "* 2 values are null in all columns except municipality, we can drop those rows.\n",
    "* Data types of all attributes are as indented, no type convertion is need."
   ]
  },
  {
   "cell_type": "code",
   "execution_count": 5,
   "id": "a1f4dc2d-e919-4b03-9711-0971e4c0c69e",
   "metadata": {},
   "outputs": [
    {
     "data": {
      "text/plain": [
       "(2798, 10)"
      ]
     },
     "execution_count": 5,
     "metadata": {},
     "output_type": "execute_result"
    }
   ],
   "source": [
    "df.shape   # 2798 data POints are available"
   ]
  },
  {
   "cell_type": "code",
   "execution_count": 6,
   "id": "623c6dff-6270-4baf-9e2b-8457db4e762d",
   "metadata": {},
   "outputs": [
    {
     "data": {
      "text/plain": [
       "Index(['MUNICIPALITY', 'LAST_NAME', 'FIRST_NAME', 'OFFICE_FILLED',\n",
       "       'VOTES_FOR_CANDIDATE', 'VOTES_FOR_OFFICE', 'ELECTED_OR_ACCLAIMED',\n",
       "       'COUNCIL_INCUMBENT', 'OFFICE_INCUMBENT', 'OFFICE_SUBJECT_TO_RECOUNT'],\n",
       "      dtype='object')"
      ]
     },
     "execution_count": 6,
     "metadata": {},
     "output_type": "execute_result"
    }
   ],
   "source": [
    "df.columns"
   ]
  },
  {
   "cell_type": "code",
   "execution_count": 7,
   "id": "37db9d72-b9e4-492f-8a28-caa2499dd7b2",
   "metadata": {},
   "outputs": [
    {
     "data": {
      "text/html": [
       "<div>\n",
       "<style scoped>\n",
       "    .dataframe tbody tr th:only-of-type {\n",
       "        vertical-align: middle;\n",
       "    }\n",
       "\n",
       "    .dataframe tbody tr th {\n",
       "        vertical-align: top;\n",
       "    }\n",
       "\n",
       "    .dataframe thead th {\n",
       "        text-align: right;\n",
       "    }\n",
       "</style>\n",
       "<table border=\"1\" class=\"dataframe\">\n",
       "  <thead>\n",
       "    <tr style=\"text-align: right;\">\n",
       "      <th></th>\n",
       "      <th>VOTES_FOR_CANDIDATE</th>\n",
       "      <th>VOTES_FOR_OFFICE</th>\n",
       "    </tr>\n",
       "  </thead>\n",
       "  <tbody>\n",
       "    <tr>\n",
       "      <th>count</th>\n",
       "      <td>2252.000000</td>\n",
       "      <td>2153.000000</td>\n",
       "    </tr>\n",
       "    <tr>\n",
       "      <th>mean</th>\n",
       "      <td>2402.758881</td>\n",
       "      <td>8313.774268</td>\n",
       "    </tr>\n",
       "    <tr>\n",
       "      <th>std</th>\n",
       "      <td>8941.651970</td>\n",
       "      <td>21240.981606</td>\n",
       "    </tr>\n",
       "    <tr>\n",
       "      <th>min</th>\n",
       "      <td>22.000000</td>\n",
       "      <td>44.000000</td>\n",
       "    </tr>\n",
       "    <tr>\n",
       "      <th>25%</th>\n",
       "      <td>467.000000</td>\n",
       "      <td>1282.000000</td>\n",
       "    </tr>\n",
       "    <tr>\n",
       "      <th>50%</th>\n",
       "      <td>1087.000000</td>\n",
       "      <td>3258.000000</td>\n",
       "    </tr>\n",
       "    <tr>\n",
       "      <th>75%</th>\n",
       "      <td>2313.000000</td>\n",
       "      <td>7931.000000</td>\n",
       "    </tr>\n",
       "    <tr>\n",
       "      <th>max</th>\n",
       "      <td>342158.000000</td>\n",
       "      <td>551890.000000</td>\n",
       "    </tr>\n",
       "  </tbody>\n",
       "</table>\n",
       "</div>"
      ],
      "text/plain": [
       "       VOTES_FOR_CANDIDATE  VOTES_FOR_OFFICE\n",
       "count          2252.000000       2153.000000\n",
       "mean           2402.758881       8313.774268\n",
       "std            8941.651970      21240.981606\n",
       "min              22.000000         44.000000\n",
       "25%             467.000000       1282.000000\n",
       "50%            1087.000000       3258.000000\n",
       "75%            2313.000000       7931.000000\n",
       "max          342158.000000     551890.000000"
      ]
     },
     "execution_count": 7,
     "metadata": {},
     "output_type": "execute_result"
    }
   ],
   "source": [
    "df.describe()"
   ]
  },
  {
   "cell_type": "markdown",
   "id": "bec9f15e-0982-443e-8c05-505e64ee8aa2",
   "metadata": {},
   "source": [
    "## Data Cleaning"
   ]
  },
  {
   "cell_type": "markdown",
   "id": "1373e4eb-0c31-441a-9c5e-89b7a1cb1d7b",
   "metadata": {},
   "source": [
    "#### Dropping null rows which don't have any values except Municipality attribute(only 2 rows)."
   ]
  },
  {
   "cell_type": "code",
   "execution_count": 8,
   "id": "aeca9744-3606-4251-a3eb-fe58f14f9961",
   "metadata": {},
   "outputs": [],
   "source": [
    "df = df.dropna(subset=['FIRST_NAME'])"
   ]
  },
  {
   "cell_type": "code",
   "execution_count": 9,
   "id": "f934b317-746f-44bb-8086-92b928668aff",
   "metadata": {},
   "outputs": [
    {
     "data": {
      "text/plain": [
       "(2796, 10)"
      ]
     },
     "execution_count": 9,
     "metadata": {},
     "output_type": "execute_result"
    }
   ],
   "source": [
    "df.shape"
   ]
  },
  {
   "cell_type": "code",
   "execution_count": 10,
   "id": "965b62fc-35b9-4c26-b663-33872dcf391b",
   "metadata": {},
   "outputs": [
    {
     "data": {
      "text/plain": [
       "MUNICIPALITY                   0\n",
       "LAST_NAME                      0\n",
       "FIRST_NAME                     0\n",
       "OFFICE_FILLED                  0\n",
       "VOTES_FOR_CANDIDATE          544\n",
       "VOTES_FOR_OFFICE             643\n",
       "ELECTED_OR_ACCLAIMED           0\n",
       "COUNCIL_INCUMBENT              0\n",
       "OFFICE_INCUMBENT               0\n",
       "OFFICE_SUBJECT_TO_RECOUNT    141\n",
       "dtype: int64"
      ]
     },
     "execution_count": 10,
     "metadata": {},
     "output_type": "execute_result"
    }
   ],
   "source": [
    "df.isnull().sum()"
   ]
  },
  {
   "cell_type": "markdown",
   "id": "52334cc7-f000-401c-b6b3-0c1a3d57a936",
   "metadata": {},
   "source": [
    "#### Filling nulls values in VOTES_FOR_CANDIDATE and VOTES_FOR_OFFICE columns"
   ]
  },
  {
   "cell_type": "code",
   "execution_count": 11,
   "id": "bd844d10-e700-43da-a1e5-d3f9928a9052",
   "metadata": {},
   "outputs": [],
   "source": [
    "# Filling 0 for null values in 'VOTES_FOR_CANDIDATE' and 'VOTES_FOR_OFFICE' columns\n",
    "\n",
    "df['VOTES_FOR_OFFICE'] = df['VOTES_FOR_OFFICE'].fillna(0)\n",
    "df['VOTES_FOR_CANDIDATE'] = df['VOTES_FOR_CANDIDATE'].fillna(0)\n"
   ]
  },
  {
   "cell_type": "code",
   "execution_count": 12,
   "id": "f5654d12-701d-4bc6-a668-8619550a3c12",
   "metadata": {},
   "outputs": [],
   "source": [
    "# Fuction for adding votes to 'VOTES_FOR_OFFICE' column where correspoing 'VOTES_FOR_CANDIDATE' have votes.\n",
    "\n",
    "def vote_values(votes_for_office, votes_for_candidate):\n",
    "    if votes_for_office == 0 and votes_for_candidate != 0:\n",
    "        if votes_for_candidate > np.mean(df['VOTES_FOR_OFFICE']):\n",
    "            return np.max(df['VOTES_FOR_OFFICE'])\n",
    "\n",
    "        return np.mean(df['VOTES_FOR_OFFICE'])\n",
    "    elif votes_for_office == 0 and votes_for_candidate == 0:\n",
    "        return 0\n",
    "    else:\n",
    "        return votes_for_office\n",
    "    \n",
    "    "
   ]
  },
  {
   "cell_type": "code",
   "execution_count": 13,
   "id": "b2034f64-2881-4e67-a5c1-025c266157fc",
   "metadata": {},
   "outputs": [],
   "source": [
    "# appling votes_values function to 'VOTES_FOR_OFFICE' column.\n",
    "\n",
    "df['VOTES_FOR_OFFICE']= df.apply(lambda x:vote_values(x['VOTES_FOR_OFFICE'], x['VOTES_FOR_CANDIDATE']), axis=1)"
   ]
  },
  {
   "cell_type": "code",
   "execution_count": 14,
   "id": "3d337465-a554-400b-9ab3-773bd80897e5",
   "metadata": {},
   "outputs": [
    {
     "name": "stdout",
     "output_type": "stream",
     "text": [
      "<class 'pandas.core.frame.DataFrame'>\n",
      "Index: 2796 entries, 0 to 2797\n",
      "Data columns (total 10 columns):\n",
      " #   Column                     Non-Null Count  Dtype  \n",
      "---  ------                     --------------  -----  \n",
      " 0   MUNICIPALITY               2796 non-null   object \n",
      " 1   LAST_NAME                  2796 non-null   object \n",
      " 2   FIRST_NAME                 2796 non-null   object \n",
      " 3   OFFICE_FILLED              2796 non-null   object \n",
      " 4   VOTES_FOR_CANDIDATE        2796 non-null   float64\n",
      " 5   VOTES_FOR_OFFICE           2796 non-null   float64\n",
      " 6   ELECTED_OR_ACCLAIMED       2796 non-null   object \n",
      " 7   COUNCIL_INCUMBENT          2796 non-null   object \n",
      " 8   OFFICE_INCUMBENT           2796 non-null   object \n",
      " 9   OFFICE_SUBJECT_TO_RECOUNT  2655 non-null   object \n",
      "dtypes: float64(2), object(8)\n",
      "memory usage: 240.3+ KB\n"
     ]
    }
   ],
   "source": [
    "df.info()"
   ]
  },
  {
   "cell_type": "code",
   "execution_count": null,
   "id": "684da775-c88e-467e-9050-790d1d73075b",
   "metadata": {},
   "outputs": [],
   "source": []
  },
  {
   "cell_type": "markdown",
   "id": "4d2ed202-ae73-4e47-af84-9512f1eb4b1e",
   "metadata": {},
   "source": [
    "#### Filling null values in OFFICE_SUBJECT_TO_RECOUNT column"
   ]
  },
  {
   "cell_type": "code",
   "execution_count": 15,
   "id": "ba571327-07aa-4911-94cf-62243999435a",
   "metadata": {},
   "outputs": [],
   "source": [
    "# Adding 'No' value to the null values in OFFICE_SUBJECT_TO_RECOUNT column where ELECTED_OR_ACCLAIMED column has 'Acclaimed' Value\n",
    "\n",
    "df.loc[(df['ELECTED_OR_ACCLAIMED'] == 'Acclaimed') & (df['OFFICE_SUBJECT_TO_RECOUNT'].isnull()),'OFFICE_SUBJECT_TO_RECOUNT'] = 'No'"
   ]
  },
  {
   "cell_type": "code",
   "execution_count": 16,
   "id": "638786ad-b2b2-4a38-8442-bab3f9f9141d",
   "metadata": {},
   "outputs": [],
   "source": [
    "# Adding 'Yes' value to the null values in OFFICE_SUBJECT_TO_RECOUNT column where ELECTED_OR_ACCLAIMED column has 'Elected' Value\n",
    "\n",
    "df.loc[(df['ELECTED_OR_ACCLAIMED'] == 'Elected') & (df['OFFICE_SUBJECT_TO_RECOUNT'].isnull()),'OFFICE_SUBJECT_TO_RECOUNT'] = 'Yes'"
   ]
  },
  {
   "cell_type": "code",
   "execution_count": 17,
   "id": "f09ae4a8-9d92-4828-afdc-f651d98dff86",
   "metadata": {},
   "outputs": [
    {
     "name": "stdout",
     "output_type": "stream",
     "text": [
      "<class 'pandas.core.frame.DataFrame'>\n",
      "Index: 2796 entries, 0 to 2797\n",
      "Data columns (total 10 columns):\n",
      " #   Column                     Non-Null Count  Dtype  \n",
      "---  ------                     --------------  -----  \n",
      " 0   MUNICIPALITY               2796 non-null   object \n",
      " 1   LAST_NAME                  2796 non-null   object \n",
      " 2   FIRST_NAME                 2796 non-null   object \n",
      " 3   OFFICE_FILLED              2796 non-null   object \n",
      " 4   VOTES_FOR_CANDIDATE        2796 non-null   float64\n",
      " 5   VOTES_FOR_OFFICE           2796 non-null   float64\n",
      " 6   ELECTED_OR_ACCLAIMED       2796 non-null   object \n",
      " 7   COUNCIL_INCUMBENT          2796 non-null   object \n",
      " 8   OFFICE_INCUMBENT           2796 non-null   object \n",
      " 9   OFFICE_SUBJECT_TO_RECOUNT  2796 non-null   object \n",
      "dtypes: float64(2), object(8)\n",
      "memory usage: 240.3+ KB\n"
     ]
    }
   ],
   "source": [
    "df.info()"
   ]
  },
  {
   "cell_type": "code",
   "execution_count": 18,
   "id": "ea6e12df-1d88-4d60-b9c1-56a5ebd8d763",
   "metadata": {},
   "outputs": [
    {
     "data": {
      "text/plain": [
       "OFFICE_SUBJECT_TO_RECOUNT\n",
       "No     2170\n",
       "Yes      82\n",
       "Name: count, dtype: int64"
      ]
     },
     "execution_count": 18,
     "metadata": {},
     "output_type": "execute_result"
    }
   ],
   "source": [
    "df[df['ELECTED_OR_ACCLAIMED'] == 'Elected']['OFFICE_SUBJECT_TO_RECOUNT'].value_counts()"
   ]
  },
  {
   "cell_type": "code",
   "execution_count": null,
   "id": "47c61130-4ead-4861-b584-2a4dd9485484",
   "metadata": {},
   "outputs": [],
   "source": []
  },
  {
   "cell_type": "markdown",
   "id": "e0f8e794-a9e5-4b9c-95fa-2a04c882be93",
   "metadata": {},
   "source": [
    "## Feature engineering "
   ]
  },
  {
   "cell_type": "markdown",
   "id": "329149cb-2433-464d-8e18-0e2a7829d40f",
   "metadata": {},
   "source": [
    "#### `INCUMBENT` Attribute"
   ]
  },
  {
   "cell_type": "code",
   "execution_count": 19,
   "id": "790f57ec-ac62-450d-ad44-cc5c21b9ad25",
   "metadata": {},
   "outputs": [],
   "source": [
    "# 'Yes' for any of 'COUNCIL_INCUMBENT' or 'OFFICE_INCUMBENT' has Yes value else 'No'\n",
    "\n",
    "df['INCUMBENT'] = 'No'\n",
    "df.loc[(df['COUNCIL_INCUMBENT'] == 'Yes') | (df['OFFICE_INCUMBENT'] == 'Yes'), 'INCUMBENT'] = 'Yes'"
   ]
  },
  {
   "cell_type": "code",
   "execution_count": 20,
   "id": "eaf9a950-8b26-4de5-ade7-9ecae322baae",
   "metadata": {},
   "outputs": [
    {
     "data": {
      "text/html": [
       "<div>\n",
       "<style scoped>\n",
       "    .dataframe tbody tr th:only-of-type {\n",
       "        vertical-align: middle;\n",
       "    }\n",
       "\n",
       "    .dataframe tbody tr th {\n",
       "        vertical-align: top;\n",
       "    }\n",
       "\n",
       "    .dataframe thead th {\n",
       "        text-align: right;\n",
       "    }\n",
       "</style>\n",
       "<table border=\"1\" class=\"dataframe\">\n",
       "  <thead>\n",
       "    <tr style=\"text-align: right;\">\n",
       "      <th></th>\n",
       "      <th>MUNICIPALITY</th>\n",
       "      <th>LAST_NAME</th>\n",
       "      <th>FIRST_NAME</th>\n",
       "      <th>OFFICE_FILLED</th>\n",
       "      <th>VOTES_FOR_CANDIDATE</th>\n",
       "      <th>VOTES_FOR_OFFICE</th>\n",
       "      <th>ELECTED_OR_ACCLAIMED</th>\n",
       "      <th>COUNCIL_INCUMBENT</th>\n",
       "      <th>OFFICE_INCUMBENT</th>\n",
       "      <th>OFFICE_SUBJECT_TO_RECOUNT</th>\n",
       "      <th>INCUMBENT</th>\n",
       "    </tr>\n",
       "  </thead>\n",
       "  <tbody>\n",
       "    <tr>\n",
       "      <th>0</th>\n",
       "      <td>Addington Highlands Tp</td>\n",
       "      <td>Hogg</td>\n",
       "      <td>Henry</td>\n",
       "      <td>Reeve</td>\n",
       "      <td>980.0</td>\n",
       "      <td>1539.0</td>\n",
       "      <td>Elected</td>\n",
       "      <td>Yes</td>\n",
       "      <td>Yes</td>\n",
       "      <td>No</td>\n",
       "      <td>Yes</td>\n",
       "    </tr>\n",
       "    <tr>\n",
       "      <th>1</th>\n",
       "      <td>Addington Highlands Tp</td>\n",
       "      <td>Fritsch</td>\n",
       "      <td>Tony</td>\n",
       "      <td>Local Councillor</td>\n",
       "      <td>464.0</td>\n",
       "      <td>1226.0</td>\n",
       "      <td>Elected</td>\n",
       "      <td>Yes</td>\n",
       "      <td>Yes</td>\n",
       "      <td>No</td>\n",
       "      <td>Yes</td>\n",
       "    </tr>\n",
       "  </tbody>\n",
       "</table>\n",
       "</div>"
      ],
      "text/plain": [
       "             MUNICIPALITY LAST_NAME FIRST_NAME     OFFICE_FILLED  \\\n",
       "0  Addington Highlands Tp      Hogg      Henry             Reeve   \n",
       "1  Addington Highlands Tp   Fritsch       Tony  Local Councillor   \n",
       "\n",
       "   VOTES_FOR_CANDIDATE  VOTES_FOR_OFFICE ELECTED_OR_ACCLAIMED  \\\n",
       "0                980.0            1539.0              Elected   \n",
       "1                464.0            1226.0              Elected   \n",
       "\n",
       "  COUNCIL_INCUMBENT OFFICE_INCUMBENT OFFICE_SUBJECT_TO_RECOUNT INCUMBENT  \n",
       "0               Yes              Yes                        No       Yes  \n",
       "1               Yes              Yes                        No       Yes  "
      ]
     },
     "execution_count": 20,
     "metadata": {},
     "output_type": "execute_result"
    }
   ],
   "source": [
    "df.head(2)"
   ]
  },
  {
   "cell_type": "markdown",
   "id": "7a90318b-ec75-4eba-8508-9f17583561c0",
   "metadata": {},
   "source": [
    "#### VOTE_SHARE_PCT Attribute"
   ]
  },
  {
   "cell_type": "code",
   "execution_count": 21,
   "id": "47f07b71-8d8c-43d9-8559-a31e953efc71",
   "metadata": {},
   "outputs": [],
   "source": [
    "# Calculate vote share percentage for each candidate\n",
    "\n",
    "df['VOTE_SHARE_PCT'] = (df['VOTES_FOR_CANDIDATE'] / df['VOTES_FOR_OFFICE'] * 100).round(2);"
   ]
  },
  {
   "cell_type": "code",
   "execution_count": 22,
   "id": "b26ab6a0-4b8b-419b-ae86-a00400e41587",
   "metadata": {},
   "outputs": [
    {
     "data": {
      "text/html": [
       "<div>\n",
       "<style scoped>\n",
       "    .dataframe tbody tr th:only-of-type {\n",
       "        vertical-align: middle;\n",
       "    }\n",
       "\n",
       "    .dataframe tbody tr th {\n",
       "        vertical-align: top;\n",
       "    }\n",
       "\n",
       "    .dataframe thead th {\n",
       "        text-align: right;\n",
       "    }\n",
       "</style>\n",
       "<table border=\"1\" class=\"dataframe\">\n",
       "  <thead>\n",
       "    <tr style=\"text-align: right;\">\n",
       "      <th></th>\n",
       "      <th>MUNICIPALITY</th>\n",
       "      <th>LAST_NAME</th>\n",
       "      <th>FIRST_NAME</th>\n",
       "      <th>OFFICE_FILLED</th>\n",
       "      <th>VOTES_FOR_CANDIDATE</th>\n",
       "      <th>VOTES_FOR_OFFICE</th>\n",
       "      <th>ELECTED_OR_ACCLAIMED</th>\n",
       "      <th>COUNCIL_INCUMBENT</th>\n",
       "      <th>OFFICE_INCUMBENT</th>\n",
       "      <th>OFFICE_SUBJECT_TO_RECOUNT</th>\n",
       "      <th>INCUMBENT</th>\n",
       "      <th>VOTE_SHARE_PCT</th>\n",
       "    </tr>\n",
       "  </thead>\n",
       "  <tbody>\n",
       "    <tr>\n",
       "      <th>0</th>\n",
       "      <td>Addington Highlands Tp</td>\n",
       "      <td>Hogg</td>\n",
       "      <td>Henry</td>\n",
       "      <td>Reeve</td>\n",
       "      <td>980.0</td>\n",
       "      <td>1539.0</td>\n",
       "      <td>Elected</td>\n",
       "      <td>Yes</td>\n",
       "      <td>Yes</td>\n",
       "      <td>No</td>\n",
       "      <td>Yes</td>\n",
       "      <td>63.68</td>\n",
       "    </tr>\n",
       "    <tr>\n",
       "      <th>1</th>\n",
       "      <td>Addington Highlands Tp</td>\n",
       "      <td>Fritsch</td>\n",
       "      <td>Tony</td>\n",
       "      <td>Local Councillor</td>\n",
       "      <td>464.0</td>\n",
       "      <td>1226.0</td>\n",
       "      <td>Elected</td>\n",
       "      <td>Yes</td>\n",
       "      <td>Yes</td>\n",
       "      <td>No</td>\n",
       "      <td>Yes</td>\n",
       "      <td>37.85</td>\n",
       "    </tr>\n",
       "  </tbody>\n",
       "</table>\n",
       "</div>"
      ],
      "text/plain": [
       "             MUNICIPALITY LAST_NAME FIRST_NAME     OFFICE_FILLED  \\\n",
       "0  Addington Highlands Tp      Hogg      Henry             Reeve   \n",
       "1  Addington Highlands Tp   Fritsch       Tony  Local Councillor   \n",
       "\n",
       "   VOTES_FOR_CANDIDATE  VOTES_FOR_OFFICE ELECTED_OR_ACCLAIMED  \\\n",
       "0                980.0            1539.0              Elected   \n",
       "1                464.0            1226.0              Elected   \n",
       "\n",
       "  COUNCIL_INCUMBENT OFFICE_INCUMBENT OFFICE_SUBJECT_TO_RECOUNT INCUMBENT  \\\n",
       "0               Yes              Yes                        No       Yes   \n",
       "1               Yes              Yes                        No       Yes   \n",
       "\n",
       "   VOTE_SHARE_PCT  \n",
       "0           63.68  \n",
       "1           37.85  "
      ]
     },
     "execution_count": 22,
     "metadata": {},
     "output_type": "execute_result"
    }
   ],
   "source": [
    "df.head(2)"
   ]
  },
  {
   "cell_type": "markdown",
   "id": "21046fee-8b05-4bfc-a883-394a6a765b80",
   "metadata": {},
   "source": [
    "## Data Analysis"
   ]
  },
  {
   "cell_type": "markdown",
   "id": "711e3133-c163-4790-affa-f52f4f7de069",
   "metadata": {},
   "source": [
    "#### Count of candidates who are `Elected` and `Acclaimed`"
   ]
  },
  {
   "cell_type": "code",
   "execution_count": 23,
   "id": "49d39065-b8c1-4b7e-9fe8-7254fe976d05",
   "metadata": {},
   "outputs": [
    {
     "data": {
      "text/plain": [
       "ELECTED_OR_ACCLAIMED\n",
       "Elected      2252\n",
       "Acclaimed     544\n",
       "Name: count, dtype: int64"
      ]
     },
     "execution_count": 23,
     "metadata": {},
     "output_type": "execute_result"
    }
   ],
   "source": [
    "df['ELECTED_OR_ACCLAIMED'].value_counts()"
   ]
  },
  {
   "cell_type": "code",
   "execution_count": 24,
   "id": "41f086c2-03aa-4888-b5d0-ef8944451413",
   "metadata": {},
   "outputs": [
    {
     "name": "stderr",
     "output_type": "stream",
     "text": [
      "C:\\Users\\ksjad\\AppData\\Local\\Temp\\ipykernel_4280\\379587576.py:2: FutureWarning: \n",
      "\n",
      "Passing `palette` without assigning `hue` is deprecated and will be removed in v0.14.0. Assign the `x` variable to `hue` and set `legend=False` for the same effect.\n",
      "\n",
      "  sns.countplot(data=df, x='ELECTED_OR_ACCLAIMED', palette=['skyblue', 'orange'])\n"
     ]
    },
    {
     "data": {
      "image/png": "[encoded data removed]",
      "text/plain": [
       "<Figure size 1000x500 with 1 Axes>"
      ]
     },
     "metadata": {},
     "output_type": "display_data"
    }
   ],
   "source": [
    "plt.figure(figsize=(10,5))\n",
    "sns.countplot(data=df, x='ELECTED_OR_ACCLAIMED', palette=['skyblue', 'orange'])\n",
    "plt.title('Total Count: Elected vs Acclaimed Candidates')\n",
    "plt.show()"
   ]
  },
  {
   "cell_type": "markdown",
   "id": "b50c5895-d938-4331-bee7-ac4ddf6311b1",
   "metadata": {},
   "source": [
    "##### Findings/Insights"
   ]
  },
  {
   "cell_type": "markdown",
   "id": "15fd1147-8f24-44ed-ab23-ad82165b0767",
   "metadata": {},
   "source": [
    "* 2252 Candidates are elected.\n",
    "\n",
    "* 544 Candidates are acclaimed"
   ]
  },
  {
   "cell_type": "markdown",
   "id": "56df3913-65d4-44b2-84bc-9f207c05c829",
   "metadata": {},
   "source": [
    "#### Number of candidates `Elected` or `Acclaimed` analysis based on `Incumbency`"
   ]
  },
  {
   "cell_type": "code",
   "execution_count": 25,
   "id": "62709180-2092-4cde-a2d6-8d9fbb94dce0",
   "metadata": {},
   "outputs": [
    {
     "data": {
      "text/html": [
       "<div>\n",
       "<style scoped>\n",
       "    .dataframe tbody tr th:only-of-type {\n",
       "        vertical-align: middle;\n",
       "    }\n",
       "\n",
       "    .dataframe tbody tr th {\n",
       "        vertical-align: top;\n",
       "    }\n",
       "\n",
       "    .dataframe thead th {\n",
       "        text-align: right;\n",
       "    }\n",
       "</style>\n",
       "<table border=\"1\" class=\"dataframe\">\n",
       "  <thead>\n",
       "    <tr style=\"text-align: right;\">\n",
       "      <th></th>\n",
       "      <th></th>\n",
       "      <th>INCUMBENT</th>\n",
       "    </tr>\n",
       "    <tr>\n",
       "      <th>ELECTED_OR_ACCLAIMED</th>\n",
       "      <th>INCUMBENT</th>\n",
       "      <th></th>\n",
       "    </tr>\n",
       "  </thead>\n",
       "  <tbody>\n",
       "    <tr>\n",
       "      <th rowspan=\"2\" valign=\"top\">Acclaimed</th>\n",
       "      <th>No</th>\n",
       "      <td>112</td>\n",
       "    </tr>\n",
       "    <tr>\n",
       "      <th>Yes</th>\n",
       "      <td>432</td>\n",
       "    </tr>\n",
       "    <tr>\n",
       "      <th rowspan=\"2\" valign=\"top\">Elected</th>\n",
       "      <th>No</th>\n",
       "      <td>1049</td>\n",
       "    </tr>\n",
       "    <tr>\n",
       "      <th>Yes</th>\n",
       "      <td>1203</td>\n",
       "    </tr>\n",
       "  </tbody>\n",
       "</table>\n",
       "</div>"
      ],
      "text/plain": [
       "                                INCUMBENT\n",
       "ELECTED_OR_ACCLAIMED INCUMBENT           \n",
       "Acclaimed            No               112\n",
       "                     Yes              432\n",
       "Elected              No              1049\n",
       "                     Yes             1203"
      ]
     },
     "execution_count": 25,
     "metadata": {},
     "output_type": "execute_result"
    }
   ],
   "source": [
    "df.groupby(['ELECTED_OR_ACCLAIMED','INCUMBENT']).agg({'INCUMBENT':'count'})"
   ]
  },
  {
   "cell_type": "code",
   "execution_count": 26,
   "id": "911205d4-f5eb-4a79-abec-db8288be711d",
   "metadata": {},
   "outputs": [
    {
     "data": {
      "image/png": "[encoded data removed]",
      "text/plain": [
       "<Figure size 1200x500 with 1 Axes>"
      ]
     },
     "metadata": {},
     "output_type": "display_data"
    }
   ],
   "source": [
    "plt.figure(figsize=(12,5))\n",
    "sns.countplot(data=df, x='INCUMBENT', hue='ELECTED_OR_ACCLAIMED')\n",
    "plt.title('Elected or Acclaimaed counts on Council_ Incumbent')\n",
    "plt.show()"
   ]
  },
  {
   "cell_type": "markdown",
   "id": "101301be-3a70-42f9-b229-a6f6dbdcb9e8",
   "metadata": {},
   "source": [
    "##### Findings/Insights"
   ]
  },
  {
   "cell_type": "markdown",
   "id": "1fa08f1f-92c3-480f-9290-91ecc4f72265",
   "metadata": {},
   "source": [
    "* Approximately 1,200 candidates who previously served were elected.\n",
    "\n",
    "* Around 400 previously serving candidates were acclaimed (won unopposed).\n",
    "\n",
    "* More than 1,000 new candidates were elected for the first time.\n",
    "\n",
    "* About 100 newcomers were acclaimed.\n",
    "\n",
    "* Overall, candidates with prior service experience had a higher likelihood of being elected compared to fresh candidates."
   ]
  },
  {
   "cell_type": "markdown",
   "id": "d6ae2cc7-5c23-4468-9744-1de3613f9d7a",
   "metadata": {},
   "source": [
    "#### Votes' Percentage "
   ]
  },
  {
   "cell_type": "code",
   "execution_count": 27,
   "id": "eda1b126-d174-4b22-825b-090cbddbf8dd",
   "metadata": {},
   "outputs": [
    {
     "data": {
      "image/png": "[encoded data removed]",
      "text/plain": [
       "<Figure size 1200x500 with 1 Axes>"
      ]
     },
     "metadata": {},
     "output_type": "display_data"
    }
   ],
   "source": [
    "plt.figure(figsize=(12,5))\n",
    "sns.histplot(data=df[df['ELECTED_OR_ACCLAIMED']=='Elected'], x='VOTE_SHARE_PCT', hue='INCUMBENT', bins=20, alpha=0.7,multiple=\"stack\")\n",
    "plt.title('Vote Percentage Distribution: Elected as Incumbent')\n",
    "plt.show()"
   ]
  },
  {
   "cell_type": "markdown",
   "id": "70f237ee-73bc-4fc2-86ed-8e02e95dea48",
   "metadata": {},
   "source": [
    "##### Findings/Insights:"
   ]
  },
  {
   "cell_type": "markdown",
   "id": "b9cd5944-0614-4964-bc2f-0b0a8bb3049a",
   "metadata": {},
   "source": [
    "* More number of candidates were elected with around 15 to 25% votes.\n",
    "\n",
    "* Less number of candidates were elected with 80% and more."
   ]
  },
  {
   "cell_type": "markdown",
   "id": "0113166e-7773-4e5d-af26-f4704bc6598d",
   "metadata": {},
   "source": [
    "#### Number of positions- Elected or Acclaimed"
   ]
  },
  {
   "cell_type": "code",
   "execution_count": 28,
   "id": "6b184a3e-6134-4cbe-a72c-68584b383d16",
   "metadata": {},
   "outputs": [
    {
     "data": {
      "text/html": [
       "<div>\n",
       "<style scoped>\n",
       "    .dataframe tbody tr th:only-of-type {\n",
       "        vertical-align: middle;\n",
       "    }\n",
       "\n",
       "    .dataframe tbody tr th {\n",
       "        vertical-align: top;\n",
       "    }\n",
       "\n",
       "    .dataframe thead th {\n",
       "        text-align: right;\n",
       "    }\n",
       "</style>\n",
       "<table border=\"1\" class=\"dataframe\">\n",
       "  <thead>\n",
       "    <tr style=\"text-align: right;\">\n",
       "      <th></th>\n",
       "      <th></th>\n",
       "      <th>MUNICIPALITY</th>\n",
       "    </tr>\n",
       "    <tr>\n",
       "      <th>OFFICE_FILLED</th>\n",
       "      <th>INCUMBENT</th>\n",
       "      <th></th>\n",
       "    </tr>\n",
       "  </thead>\n",
       "  <tbody>\n",
       "    <tr>\n",
       "      <th rowspan=\"2\" valign=\"top\">Deputy Mayor</th>\n",
       "      <th>No</th>\n",
       "      <td>28</td>\n",
       "    </tr>\n",
       "    <tr>\n",
       "      <th>Yes</th>\n",
       "      <td>87</td>\n",
       "    </tr>\n",
       "    <tr>\n",
       "      <th>Deputy Reeve</th>\n",
       "      <th>Yes</th>\n",
       "      <td>7</td>\n",
       "    </tr>\n",
       "    <tr>\n",
       "      <th rowspan=\"2\" valign=\"top\">Local Councillor</th>\n",
       "      <th>No</th>\n",
       "      <td>1030</td>\n",
       "    </tr>\n",
       "    <tr>\n",
       "      <th>Yes</th>\n",
       "      <td>1132</td>\n",
       "    </tr>\n",
       "    <tr>\n",
       "      <th rowspan=\"2\" valign=\"top\">Local and County Councillor</th>\n",
       "      <th>No</th>\n",
       "      <td>2</td>\n",
       "    </tr>\n",
       "    <tr>\n",
       "      <th>Yes</th>\n",
       "      <td>5</td>\n",
       "    </tr>\n",
       "    <tr>\n",
       "      <th rowspan=\"2\" valign=\"top\">Local and District Councillor</th>\n",
       "      <th>No</th>\n",
       "      <td>6</td>\n",
       "    </tr>\n",
       "    <tr>\n",
       "      <th>Yes</th>\n",
       "      <td>10</td>\n",
       "    </tr>\n",
       "    <tr>\n",
       "      <th rowspan=\"2\" valign=\"top\">Local and Regional Councillor</th>\n",
       "      <th>No</th>\n",
       "      <td>15</td>\n",
       "    </tr>\n",
       "    <tr>\n",
       "      <th>Yes</th>\n",
       "      <td>56</td>\n",
       "    </tr>\n",
       "    <tr>\n",
       "      <th rowspan=\"2\" valign=\"top\">Mayor</th>\n",
       "      <th>No</th>\n",
       "      <td>74</td>\n",
       "    </tr>\n",
       "    <tr>\n",
       "      <th>Yes</th>\n",
       "      <td>303</td>\n",
       "    </tr>\n",
       "    <tr>\n",
       "      <th rowspan=\"2\" valign=\"top\">Reeve</th>\n",
       "      <th>No</th>\n",
       "      <td>6</td>\n",
       "    </tr>\n",
       "    <tr>\n",
       "      <th>Yes</th>\n",
       "      <td>31</td>\n",
       "    </tr>\n",
       "    <tr>\n",
       "      <th>Reeve (Not Head Of Council)</th>\n",
       "      <th>Yes</th>\n",
       "      <td>3</td>\n",
       "    </tr>\n",
       "    <tr>\n",
       "      <th>Vice Deputy Mayor</th>\n",
       "      <th>Yes</th>\n",
       "      <td>1</td>\n",
       "    </tr>\n",
       "  </tbody>\n",
       "</table>\n",
       "</div>"
      ],
      "text/plain": [
       "                                         MUNICIPALITY\n",
       "OFFICE_FILLED                 INCUMBENT              \n",
       "Deputy Mayor                  No                   28\n",
       "                              Yes                  87\n",
       "Deputy Reeve                  Yes                   7\n",
       "Local Councillor              No                 1030\n",
       "                              Yes                1132\n",
       "Local and County Councillor   No                    2\n",
       "                              Yes                   5\n",
       "Local and District Councillor No                    6\n",
       "                              Yes                  10\n",
       "Local and Regional Councillor No                   15\n",
       "                              Yes                  56\n",
       "Mayor                         No                   74\n",
       "                              Yes                 303\n",
       "Reeve                         No                    6\n",
       "                              Yes                  31\n",
       "Reeve (Not Head Of Council)   Yes                   3\n",
       "Vice Deputy Mayor             Yes                   1"
      ]
     },
     "execution_count": 28,
     "metadata": {},
     "output_type": "execute_result"
    }
   ],
   "source": [
    "df.groupby(['OFFICE_FILLED','INCUMBENT']).agg({'MUNICIPALITY':'count'})"
   ]
  },
  {
   "cell_type": "code",
   "execution_count": 29,
   "id": "9aa62a2e-4bdd-433d-8ae7-66c40d8cb8d1",
   "metadata": {},
   "outputs": [
    {
     "data": {
      "image/png": "[encoded data removed]",
      "text/plain": [
       "<Figure size 1500x700 with 1 Axes>"
      ]
     },
     "metadata": {},
     "output_type": "display_data"
    }
   ],
   "source": [
    "plt.figure(figsize=(15,7))\n",
    "ax = sns.countplot(data = df, y = 'OFFICE_FILLED', hue = 'INCUMBENT')\n",
    "\n",
    "\n",
    "for container in ax.containers:\n",
    "    ax.bar_label(container, fmt='%d', label_type='edge', padding=3)\n",
    "    \n",
    "plt.show()"
   ]
  },
  {
   "cell_type": "markdown",
   "id": "7465753c-7ca0-4750-a084-147d063111d1",
   "metadata": {},
   "source": [
    "##### Insights:"
   ]
  },
  {
   "cell_type": "markdown",
   "id": "4a0f48b5-d0da-459e-ba3e-f02dbfdba4f8",
   "metadata": {},
   "source": [
    "* `Reeve`- 31 non-incumbent and 6 incumbent candidates.\n",
    "\n",
    "* `Local Councillor` positions are the highest counts across ontario(1030 incumbent and 1132 non-incumbent).\n",
    "    \n",
    "* `Mayor`- 303 non-incumbent and 74 incumbents.\n",
    "    \n",
    "* `Deputy Mayor` positions have 87 incumbent and 28 non-incumbent candidates.\n",
    "    \n",
    "* `Local and Regional Councillor` - 15 incumbent and 57 non-incumbent candidates."
   ]
  },
  {
   "cell_type": "markdown",
   "id": "8e7c313f-1ea6-4be1-8ff4-d0283a8b50ca",
   "metadata": {},
   "source": [
    "#### Municipality-wise Count of Election Entries"
   ]
  },
  {
   "cell_type": "code",
   "execution_count": 30,
   "id": "d13c5133-3d3c-4461-ac0a-901be7c1c9d5",
   "metadata": {},
   "outputs": [
    {
     "data": {
      "text/plain": [
       "MUNICIPALITY\n",
       "Toronto C                 26\n",
       "Ottawa C                  25\n",
       "Chatham-Kent M            18\n",
       "Hamilton C                16\n",
       "Oakville T                15\n",
       "                          ..\n",
       "Whitestone M               5\n",
       "Addington Highlands Tp     5\n",
       "Wollaston Tp               5\n",
       "Zorra Tp                   5\n",
       "Hilliard Tp                4\n",
       "Name: count, Length: 414, dtype: int64"
      ]
     },
     "execution_count": 30,
     "metadata": {},
     "output_type": "execute_result"
    }
   ],
   "source": [
    "df['MUNICIPALITY'].value_counts()"
   ]
  },
  {
   "cell_type": "markdown",
   "id": "94cf8c13-1e3b-4c7d-a0bf-96553f91e911",
   "metadata": {},
   "source": [
    "* `Toronto C` municipality has a higher number of entries i.e. 26.\n",
    "\n",
    "* `Ottawa C` municipality has 25 and `Chatham-Kent M` municipality has 18 entries.\n",
    "\n",
    "* `Wollaston Tp` and `Zorra Tp` municipalites each have 5 entries which are second lowest.\n",
    "\n",
    "* `Hilliard Tp` municipality has 4 entries which is the lowest entries in our dataset."
   ]
  },
  {
   "cell_type": "markdown",
   "id": "81595249-2649-49d9-ab66-38c99f292794",
   "metadata": {},
   "source": [
    "#### Candidate Incumbency Across big cities Toronto, Ottawa and Chatham-Kent"
   ]
  },
  {
   "cell_type": "code",
   "execution_count": 31,
   "id": "3ca994c2-23ca-48da-aa68-8eda483bf474",
   "metadata": {},
   "outputs": [
    {
     "data": {
      "text/plain": [
       "MUNICIPALITY    INCUMBENT\n",
       "Chatham-Kent M  No            5\n",
       "                Yes          13\n",
       "Ottawa C        No           12\n",
       "                Yes          13\n",
       "Toronto C       No            9\n",
       "                Yes          17\n",
       "Name: count, dtype: int64"
      ]
     },
     "execution_count": 31,
     "metadata": {},
     "output_type": "execute_result"
    }
   ],
   "source": [
    "d = df[(df['MUNICIPALITY'] == 'Toronto C') | (df['MUNICIPALITY'] == 'Ottawa C') | (df['MUNICIPALITY'] == 'Chatham-Kent M')]\n",
    "d.groupby(['MUNICIPALITY','INCUMBENT'])['MUNICIPALITY'].value_counts()"
   ]
  },
  {
   "cell_type": "code",
   "execution_count": 32,
   "id": "38b36fd8-c814-488e-9da6-ec6458c62062",
   "metadata": {},
   "outputs": [
    {
     "data": {
      "image/png": "[encoded data removed]",
      "text/plain": [
       "<Figure size 1365.88x600 with 1 Axes>"
      ]
     },
     "metadata": {},
     "output_type": "display_data"
    }
   ],
   "source": [
    "sns.catplot(data = d, x = 'INCUMBENT', hue = 'MUNICIPALITY', kind = 'count', height = 6, aspect = 2)\n",
    "plt.title('Candidate Incumbency Across Selected Cities')\n",
    "plt.ylabel('Number of candidates')\n",
    "plt.show()"
   ]
  },
  {
   "cell_type": "markdown",
   "id": "a29393f5-3089-44c2-b421-e533f2eff185",
   "metadata": {},
   "source": [
    "##### Findings/Insights:"
   ]
  },
  {
   "cell_type": "markdown",
   "id": "1e23e664-0dc0-4966-addf-af559d367785",
   "metadata": {},
   "source": [
    "* In `Chatham-Kent M` municipality 5 candidates were elected for the first time, while 13 previously serving candidates were re-elected.\n",
    "\n",
    "* In `Ottawa C` municipality 12 new candidates were elected, and 13 were re-elected incumbents.\n",
    "\n",
    "* In `Toronto C` municipality 9 candidates are elected for the first time and 17 candidates are re-elected who served before.\n",
    "\n",
    "* Across `Chatham-Kent M` and `Toronto C` municipalities, incumbent candidates consistently outperformed.\n",
    "\n",
    "* In `Ottawa C` municipality both incumbent and non-incumbent candidates performed nearly equally well."
   ]
  },
  {
   "cell_type": "markdown",
   "id": "9b6a7f2c-7c00-4676-830c-7cb07d6a5d4c",
   "metadata": {},
   "source": [
    "#### Candidate Incumbency Across smaller cities `Zorra Tp`, `Hilliard Tp` and  `Wollaston Tp`"
   ]
  },
  {
   "cell_type": "code",
   "execution_count": 33,
   "id": "fe1a71c6-09d0-4ae3-866f-63355d0e319a",
   "metadata": {},
   "outputs": [
    {
     "data": {
      "text/plain": [
       "MUNICIPALITY  INCUMBENT\n",
       "Hilliard Tp   No           1\n",
       "              Yes          3\n",
       "Wollaston Tp  No           4\n",
       "              Yes          1\n",
       "Zorra Tp      No           2\n",
       "              Yes          3\n",
       "Name: count, dtype: int64"
      ]
     },
     "execution_count": 33,
     "metadata": {},
     "output_type": "execute_result"
    }
   ],
   "source": [
    "d = df[(df['MUNICIPALITY'] == 'Zorra Tp') | (df['MUNICIPALITY'] == 'Hilliard Tp')| (df['MUNICIPALITY'] == 'Wollaston Tp')]\n",
    "d.groupby(['MUNICIPALITY','INCUMBENT'])['MUNICIPALITY'].value_counts()"
   ]
  },
  {
   "cell_type": "code",
   "execution_count": 34,
   "id": "69279515-bb7c-4c8e-b86b-f566b9c69af9",
   "metadata": {},
   "outputs": [
    {
     "data": {
      "image/png": "[encoded data removed]",
      "text/plain": [
       "<Figure size 1139.5x500 with 1 Axes>"
      ]
     },
     "metadata": {},
     "output_type": "display_data"
    }
   ],
   "source": [
    "sns.catplot(data = d, x = 'INCUMBENT', hue = 'MUNICIPALITY', kind = 'count', height = 5, aspect = 2, palette = ['green','yellow','skyBlue'])\n",
    "plt.title('Candidate Incumbency Across Zorra Tp, Hilliard Tp and  Wollaston Tp')\n",
    "plt.ylabel('Number of candidates')\n",
    "plt.show()"
   ]
  },
  {
   "cell_type": "markdown",
   "id": "dff76e7f-1f0e-416b-a8c8-e5dbe6ab86d3",
   "metadata": {},
   "source": [
    "##### Findings/Insights:"
   ]
  },
  {
   "cell_type": "markdown",
   "id": "9a1a4a12-9bea-4129-8e58-09683456ebda",
   "metadata": {},
   "source": [
    "* In `Hilliard Tp` municipality 1 candidate was elected for the first time, while 3 previously serving candidates were re-elected.\n",
    "\n",
    "* In `Wollaston Tp` municipality 4 new candidates were elected, and 1 was re-elected incumbents.\n",
    "\n",
    "* In `Zorra Tp` municipality 2 candidates are elected for the first time and 3 candidates are re-elected who served before.\n",
    "\n",
    "* Across `Hilliard Tp` and `Zorra Tp` municipalities, incumbent candidates performed well.\n",
    "\n",
    "* In `Wollaston Tp` municipality non-incumbent candidates outperformed."
   ]
  },
  {
   "cell_type": "markdown",
   "id": "c77d0fc2-52e2-4656-b4c2-8e703d5cc26b",
   "metadata": {},
   "source": [
    "#### Counts of all positions"
   ]
  },
  {
   "cell_type": "code",
   "execution_count": 35,
   "id": "f4e1f382-868c-41ed-91d1-2f83119f9ff5",
   "metadata": {},
   "outputs": [
    {
     "data": {
      "text/plain": [
       "OFFICE_FILLED\n",
       "Local Councillor                 2162\n",
       "Mayor                             377\n",
       "Deputy Mayor                      115\n",
       "Local and Regional Councillor      71\n",
       "Reeve                              37\n",
       "Local and District Councillor      16\n",
       "Local and County Councillor         7\n",
       "Deputy Reeve                        7\n",
       "Reeve (Not Head Of Council)         3\n",
       "Vice Deputy Mayor                   1\n",
       "Name: count, dtype: int64"
      ]
     },
     "execution_count": 35,
     "metadata": {},
     "output_type": "execute_result"
    }
   ],
   "source": [
    "df['OFFICE_FILLED'].value_counts()"
   ]
  },
  {
   "cell_type": "markdown",
   "id": "e4de01b5-a3b7-456d-9a42-ab53e5e0ade5",
   "metadata": {},
   "source": [
    "#### Number of `local councillors` across municipalities"
   ]
  },
  {
   "cell_type": "code",
   "execution_count": 36,
   "id": "9e1d3367-9dcf-41b5-b14c-9f4a36d00360",
   "metadata": {},
   "outputs": [
    {
     "data": {
      "text/plain": [
       "MUNICIPALITY\n",
       "Toronto C               25\n",
       "Ottawa C                24\n",
       "Chatham-Kent M          17\n",
       "Hamilton C              15\n",
       "London C                14\n",
       "                        ..\n",
       "Tweed M                  3\n",
       "Alnwick-Haldimand Tp     3\n",
       "Tyendinaga Tp            3\n",
       "Ajax T                   3\n",
       "Brampton C               2\n",
       "Name: count, Length: 412, dtype: int64"
      ]
     },
     "execution_count": 36,
     "metadata": {},
     "output_type": "execute_result"
    }
   ],
   "source": [
    "df[df['OFFICE_FILLED'] == 'Local Councillor']['MUNICIPALITY'].value_counts()"
   ]
  },
  {
   "cell_type": "markdown",
   "id": "4a7f35de-4621-4095-bc40-ea38d3aea720",
   "metadata": {},
   "source": [
    "#### `Municipality` counts where there `VOTES_FOR_OFFICE` values between 100000 and 200000"
   ]
  },
  {
   "cell_type": "code",
   "execution_count": 63,
   "id": "d6a7d57a-5104-4ae7-ba4f-3bbc892b5692",
   "metadata": {},
   "outputs": [
    {
     "data": {
      "text/plain": [
       "MUNICIPALITY\n",
       "Niagara Falls C    8\n",
       "Thunder Bay C      5\n",
       "Markham C          4\n",
       "Hamilton C         1\n",
       "Milton T           1\n",
       "Mississauga C      1\n",
       "Ottawa C           1\n",
       "St Thomas C        1\n",
       "Toronto C          1\n",
       "Name: count, dtype: int64"
      ]
     },
     "execution_count": 63,
     "metadata": {},
     "output_type": "execute_result"
    }
   ],
   "source": [
    "df[(df['VOTES_FOR_OFFICE'] < 2000000) & (df['VOTES_FOR_OFFICE'] > 100000)]['MUNICIPALITY'].value_counts()"
   ]
  },
  {
   "cell_type": "markdown",
   "id": "5bab4805-7c3c-420f-88a1-ce6127ea8feb",
   "metadata": {},
   "source": [
    "#### `Local Councillor` and `Mayor` positions count across Toronto, Ottawa and Chatham-Kent M"
   ]
  },
  {
   "cell_type": "code",
   "execution_count": 56,
   "id": "febe1ce6-b631-4710-b6ab-af3e2cb81ff5",
   "metadata": {},
   "outputs": [
    {
     "data": {
      "text/plain": [
       "MUNICIPALITY\n",
       "Toronto C         26\n",
       "Ottawa C          25\n",
       "Chatham-Kent M    18\n",
       "Name: count, dtype: int64"
      ]
     },
     "execution_count": 56,
     "metadata": {},
     "output_type": "execute_result"
    }
   ],
   "source": [
    "d = df[(df['OFFICE_FILLED'] == 'Local Councillor') | (df['OFFICE_FILLED'] == 'Mayor')]\n",
    "d[d['MUNICIPALITY'].isin(['Toronto C','Ottawa C','Chatham-Kent M'])]['MUNICIPALITY'].value_counts()"
   ]
  },
  {
   "cell_type": "code",
   "execution_count": 70,
   "id": "3a061d80-91d2-44a0-be19-cec5226fbb2e",
   "metadata": {},
   "outputs": [
    {
     "data": {
      "image/png": "[encoded data removed]",
      "text/plain": [
       "<Figure size 894.861x400 with 1 Axes>"
      ]
     },
     "metadata": {},
     "output_type": "display_data"
    }
   ],
   "source": [
    "sns.catplot(data = d[d['MUNICIPALITY'].isin(['Toronto C','Ottawa C','Chatham-Kent M'])], x ='MUNICIPALITY' ,hue='INCUMBENT', kind = 'count', height = 4, aspect = 2)\n",
    "plt.title('Local Councillor and Mayor counts across Toronto, Ottawa and Chatham-Kent M')\n",
    "plt.ylabel('Number of Mayoys and Local councillor')\n",
    "plt.show()"
   ]
  },
  {
   "cell_type": "markdown",
   "id": "7660b877-cf8f-4aa6-97b8-7cd59569d1d8",
   "metadata": {},
   "source": [
    "##### Insights:"
   ]
  },
  {
   "cell_type": "markdown",
   "id": "b137bf46-14c3-4759-af03-46f0e8c3399c",
   "metadata": {},
   "source": [
    "* `Toronto` municipality has total 26 `Mayor` and local `Councillor`.\n",
    "  \n",
    "* `Ottawa` municipality has total 25 `Mayor` and local `Councillor`.\n",
    "\n",
    "* `Chatham-Kent M` municipality has total 18 `Mayor` and local `Councillor`."
   ]
  },
  {
   "cell_type": "code",
   "execution_count": null,
   "id": "f7fcb7e1-9f41-4d59-b282-9e2487cc8710",
   "metadata": {},
   "outputs": [],
   "source": []
  },
  {
   "cell_type": "code",
   "execution_count": null,
   "id": "15b220e4-66e1-4ef9-9cd6-01e9b75290f8",
   "metadata": {},
   "outputs": [],
   "source": []
  },
  {
   "cell_type": "markdown",
   "id": "1b9a0af5-ee41-4d98-8537-4cd957ab5fdb",
   "metadata": {},
   "source": [
    "# Model"
   ]
  },
  {
   "cell_type": "code",
   "execution_count": 41,
   "id": "b05f88d9-d4a9-4519-90f5-094106a75414",
   "metadata": {},
   "outputs": [],
   "source": [
    "# Importing requeried libraries\n",
    "\n",
    "from statsmodels.formula.api import ols\n",
    "import statsmodels.api as sm\n",
    "from sklearn.linear_model import LinearRegression\n",
    "\n",
    "import scipy, scipy.stats"
   ]
  },
  {
   "cell_type": "code",
   "execution_count": 42,
   "id": "1f0a6830-3607-4314-88aa-7abd8c27b94c",
   "metadata": {},
   "outputs": [
    {
     "data": {
      "text/html": [
       "<table class=\"simpletable\">\n",
       "<caption>OLS Regression Results</caption>\n",
       "<tr>\n",
       "  <th>Dep. Variable:</th>    <td>VOTES_FOR_CANDIDATE</td> <th>  R-squared:         </th> <td>   0.419</td> \n",
       "</tr>\n",
       "<tr>\n",
       "  <th>Model:</th>                    <td>OLS</td>         <th>  Adj. R-squared:    </th> <td>   0.419</td> \n",
       "</tr>\n",
       "<tr>\n",
       "  <th>Method:</th>              <td>Least Squares</td>    <th>  F-statistic:       </th> <td>   2016.</td> \n",
       "</tr>\n",
       "<tr>\n",
       "  <th>Date:</th>              <td>Fri, 17 Oct 2025</td>   <th>  Prob (F-statistic):</th>  <td>  0.00</td>  \n",
       "</tr>\n",
       "<tr>\n",
       "  <th>Time:</th>                  <td>19:07:03</td>       <th>  Log-Likelihood:    </th> <td> -28364.</td> \n",
       "</tr>\n",
       "<tr>\n",
       "  <th>No. Observations:</th>       <td>  2796</td>        <th>  AIC:               </th> <td>5.673e+04</td>\n",
       "</tr>\n",
       "<tr>\n",
       "  <th>Df Residuals:</th>           <td>  2794</td>        <th>  BIC:               </th> <td>5.674e+04</td>\n",
       "</tr>\n",
       "<tr>\n",
       "  <th>Df Model:</th>               <td>     1</td>        <th>                     </th>     <td> </td>    \n",
       "</tr>\n",
       "<tr>\n",
       "  <th>Covariance Type:</th>       <td>nonrobust</td>      <th>                     </th>     <td> </td>    \n",
       "</tr>\n",
       "</table>\n",
       "<table class=\"simpletable\">\n",
       "<tr>\n",
       "          <td></td>            <th>coef</th>     <th>std err</th>      <th>t</th>      <th>P>|t|</th>  <th>[0.025</th>    <th>0.975]</th>  \n",
       "</tr>\n",
       "<tr>\n",
       "  <th>const</th>            <td>  398.4072</td> <td>  121.423</td> <td>    3.281</td> <td> 0.001</td> <td>  160.319</td> <td>  636.495</td>\n",
       "</tr>\n",
       "<tr>\n",
       "  <th>VOTES_FOR_OFFICE</th> <td>    0.2190</td> <td>    0.005</td> <td>   44.895</td> <td> 0.000</td> <td>    0.209</td> <td>    0.229</td>\n",
       "</tr>\n",
       "</table>\n",
       "<table class=\"simpletable\">\n",
       "<tr>\n",
       "  <th>Omnibus:</th>       <td>5374.554</td> <th>  Durbin-Watson:     </th>   <td>   1.806</td>  \n",
       "</tr>\n",
       "<tr>\n",
       "  <th>Prob(Omnibus):</th>  <td> 0.000</td>  <th>  Jarque-Bera (JB):  </th> <td>55579495.060</td>\n",
       "</tr>\n",
       "<tr>\n",
       "  <th>Skew:</th>           <td>13.863</td>  <th>  Prob(JB):          </th>   <td>    0.00</td>  \n",
       "</tr>\n",
       "<tr>\n",
       "  <th>Kurtosis:</th>       <td>693.151</td> <th>  Cond. No.          </th>   <td>2.59e+04</td>  \n",
       "</tr>\n",
       "</table><br/><br/>Notes:<br/>[1] Standard Errors assume that the covariance matrix of the errors is correctly specified.<br/>[2] The condition number is large, 2.59e+04. This might indicate that there are<br/>strong multicollinearity or other numerical problems."
      ],
      "text/latex": [
       "\\begin{center}\n",
       "\\begin{tabular}{lclc}\n",
       "\\toprule\n",
       "\\textbf{Dep. Variable:}     & VOTES\\_FOR\\_CANDIDATE & \\textbf{  R-squared:         } &      0.419    \\\\\n",
       "\\textbf{Model:}             &          OLS          & \\textbf{  Adj. R-squared:    } &      0.419    \\\\\n",
       "\\textbf{Method:}            &     Least Squares     & \\textbf{  F-statistic:       } &      2016.    \\\\\n",
       "\\textbf{Date:}              &    Fri, 17 Oct 2025   & \\textbf{  Prob (F-statistic):} &      0.00     \\\\\n",
       "\\textbf{Time:}              &        19:07:03       & \\textbf{  Log-Likelihood:    } &    -28364.    \\\\\n",
       "\\textbf{No. Observations:}  &           2796        & \\textbf{  AIC:               } &  5.673e+04    \\\\\n",
       "\\textbf{Df Residuals:}      &           2794        & \\textbf{  BIC:               } &  5.674e+04    \\\\\n",
       "\\textbf{Df Model:}          &              1        & \\textbf{                     } &               \\\\\n",
       "\\textbf{Covariance Type:}   &       nonrobust       & \\textbf{                     } &               \\\\\n",
       "\\bottomrule\n",
       "\\end{tabular}\n",
       "\\begin{tabular}{lcccccc}\n",
       "                            & \\textbf{coef} & \\textbf{std err} & \\textbf{t} & \\textbf{P$> |$t$|$} & \\textbf{[0.025} & \\textbf{0.975]}  \\\\\n",
       "\\midrule\n",
       "\\textbf{const}              &     398.4072  &      121.423     &     3.281  &         0.001        &      160.319    &      636.495     \\\\\n",
       "\\textbf{VOTES\\_FOR\\_OFFICE} &       0.2190  &        0.005     &    44.895  &         0.000        &        0.209    &        0.229     \\\\\n",
       "\\bottomrule\n",
       "\\end{tabular}\n",
       "\\begin{tabular}{lclc}\n",
       "\\textbf{Omnibus:}       & 5374.554 & \\textbf{  Durbin-Watson:     } &      1.806    \\\\\n",
       "\\textbf{Prob(Omnibus):} &   0.000  & \\textbf{  Jarque-Bera (JB):  } & 55579495.060  \\\\\n",
       "\\textbf{Skew:}          &  13.863  & \\textbf{  Prob(JB):          } &       0.00    \\\\\n",
       "\\textbf{Kurtosis:}      & 693.151  & \\textbf{  Cond. No.          } &   2.59e+04    \\\\\n",
       "\\bottomrule\n",
       "\\end{tabular}\n",
       "%\\caption{OLS Regression Results}\n",
       "\\end{center}\n",
       "\n",
       "Notes: \\newline\n",
       " [1] Standard Errors assume that the covariance matrix of the errors is correctly specified. \\newline\n",
       " [2] The condition number is large, 2.59e+04. This might indicate that there are \\newline\n",
       " strong multicollinearity or other numerical problems."
      ],
      "text/plain": [
       "<class 'statsmodels.iolib.summary.Summary'>\n",
       "\"\"\"\n",
       "                             OLS Regression Results                            \n",
       "===============================================================================\n",
       "Dep. Variable:     VOTES_FOR_CANDIDATE   R-squared:                       0.419\n",
       "Model:                             OLS   Adj. R-squared:                  0.419\n",
       "Method:                  Least Squares   F-statistic:                     2016.\n",
       "Date:                 Fri, 17 Oct 2025   Prob (F-statistic):               0.00\n",
       "Time:                         19:07:03   Log-Likelihood:                -28364.\n",
       "No. Observations:                 2796   AIC:                         5.673e+04\n",
       "Df Residuals:                     2794   BIC:                         5.674e+04\n",
       "Df Model:                            1                                         \n",
       "Covariance Type:             nonrobust                                         \n",
       "====================================================================================\n",
       "                       coef    std err          t      P>|t|      [0.025      0.975]\n",
       "------------------------------------------------------------------------------------\n",
       "const              398.4072    121.423      3.281      0.001     160.319     636.495\n",
       "VOTES_FOR_OFFICE     0.2190      0.005     44.895      0.000       0.209       0.229\n",
       "==============================================================================\n",
       "Omnibus:                     5374.554   Durbin-Watson:                   1.806\n",
       "Prob(Omnibus):                  0.000   Jarque-Bera (JB):         55579495.060\n",
       "Skew:                          13.863   Prob(JB):                         0.00\n",
       "Kurtosis:                     693.151   Cond. No.                     2.59e+04\n",
       "==============================================================================\n",
       "\n",
       "Notes:\n",
       "[1] Standard Errors assume that the covariance matrix of the errors is correctly specified.\n",
       "[2] The condition number is large, 2.59e+04. This might indicate that there are\n",
       "strong multicollinearity or other numerical problems.\n",
       "\"\"\""
      ]
     },
     "execution_count": 42,
     "metadata": {},
     "output_type": "execute_result"
    }
   ],
   "source": [
    "# creating X(independent variable) and Y(dependent variable)\n",
    "\n",
    "Y1 = df['VOTES_FOR_CANDIDATE']\n",
    "X1 = df[['VOTES_FOR_OFFICE']]\n",
    "X1 = sm.add_constant(X1)  \n",
    "Model1 = sm.OLS(Y1, X1).fit()\n",
    "Model1.summary()"
   ]
  },
  {
   "cell_type": "code",
   "execution_count": 43,
   "id": "0c35d639-169d-4193-98da-458ec40ab5d6",
   "metadata": {},
   "outputs": [
    {
     "name": "stdout",
     "output_type": "stream",
     "text": [
      "Parameters:  const               398.407190\n",
      "VOTES_FOR_OFFICE      0.218966\n",
      "dtype: float64\n",
      "R2 value:  0.4190685589195907\n"
     ]
    }
   ],
   "source": [
    "print('Parameters: ',  Model1.params)\n",
    "print('R2 value: ', Model1.rsquared)"
   ]
  },
  {
   "cell_type": "markdown",
   "id": "af5f7970-9bc9-4b72-871f-75ce2358f387",
   "metadata": {},
   "source": [
    "##### Findings:"
   ]
  },
  {
   "cell_type": "markdown",
   "id": "8264ce42-116e-4136-8950-f840128ed8ae",
   "metadata": {},
   "source": [
    "* About 41.9% of the variation in VOTES_FOR_CANDIDATE is explained by VOTES_FOR_OFFICE.\n",
    "\n",
    "* Regression equation for this model: `VOTES_FOR_CANDIDATE = 398.4 + 0.218 × VOTES_FOR_OFFICE`.\n",
    "\n",
    "* `Standard error` for constant is 121.4 and for `VOTES_FOR_OFFICE` is 0.005.\n",
    "\n",
    "* The relationship between office votes and candidate votes is very precisely estimated.\n",
    "\n",
    "* `P-value` is 0 strong evidence the effect is real."
   ]
  },
  {
   "cell_type": "markdown",
   "id": "3c21569b-a8e3-453d-a6ca-0cbc1b8e08a0",
   "metadata": {},
   "source": [
    "### using dummy variables"
   ]
  },
  {
   "cell_type": "code",
   "execution_count": 44,
   "id": "3eb65af3-e409-4a39-9530-499beb9fd987",
   "metadata": {},
   "outputs": [],
   "source": [
    "# Creating dummies for INCUMBENT attribute\n",
    "\n",
    "incumbent_df = pd.get_dummies(df['INCUMBENT'], dtype=int)\n",
    "incumbent_df.rename(columns={'No':'INCUMB_NO', 'Yes':'INCUMB_YES'}, inplace = True)"
   ]
  },
  {
   "cell_type": "code",
   "execution_count": 45,
   "id": "b71e65ae-342e-48d5-a1aa-5bdeee107c38",
   "metadata": {},
   "outputs": [
    {
     "data": {
      "text/html": [
       "<div>\n",
       "<style scoped>\n",
       "    .dataframe tbody tr th:only-of-type {\n",
       "        vertical-align: middle;\n",
       "    }\n",
       "\n",
       "    .dataframe tbody tr th {\n",
       "        vertical-align: top;\n",
       "    }\n",
       "\n",
       "    .dataframe thead th {\n",
       "        text-align: right;\n",
       "    }\n",
       "</style>\n",
       "<table border=\"1\" class=\"dataframe\">\n",
       "  <thead>\n",
       "    <tr style=\"text-align: right;\">\n",
       "      <th></th>\n",
       "      <th>Acclaimed</th>\n",
       "      <th>Elected</th>\n",
       "    </tr>\n",
       "  </thead>\n",
       "  <tbody>\n",
       "    <tr>\n",
       "      <th>0</th>\n",
       "      <td>0</td>\n",
       "      <td>1</td>\n",
       "    </tr>\n",
       "    <tr>\n",
       "      <th>1</th>\n",
       "      <td>0</td>\n",
       "      <td>1</td>\n",
       "    </tr>\n",
       "  </tbody>\n",
       "</table>\n",
       "</div>"
      ],
      "text/plain": [
       "   Acclaimed  Elected\n",
       "0          0        1\n",
       "1          0        1"
      ]
     },
     "execution_count": 45,
     "metadata": {},
     "output_type": "execute_result"
    }
   ],
   "source": [
    "# Creating dummies for ELECTED_OR_ACCLAIMED attribute\n",
    "\n",
    "electacc_df = pd.get_dummies(df['ELECTED_OR_ACCLAIMED'], dtype=int)\n",
    "electacc_df.head(2)"
   ]
  },
  {
   "cell_type": "code",
   "execution_count": 46,
   "id": "25251900-2aa8-4e1b-b7ec-e4f2ba023510",
   "metadata": {},
   "outputs": [],
   "source": [
    "df_with_dummies = pd.concat([df , electacc_df,incumbent_df], axis = 1)"
   ]
  },
  {
   "cell_type": "code",
   "execution_count": 47,
   "id": "3ff3f835-1887-458d-861d-ce39ee891c6d",
   "metadata": {},
   "outputs": [
    {
     "data": {
      "text/html": [
       "<div>\n",
       "<style scoped>\n",
       "    .dataframe tbody tr th:only-of-type {\n",
       "        vertical-align: middle;\n",
       "    }\n",
       "\n",
       "    .dataframe tbody tr th {\n",
       "        vertical-align: top;\n",
       "    }\n",
       "\n",
       "    .dataframe thead th {\n",
       "        text-align: right;\n",
       "    }\n",
       "</style>\n",
       "<table border=\"1\" class=\"dataframe\">\n",
       "  <thead>\n",
       "    <tr style=\"text-align: right;\">\n",
       "      <th></th>\n",
       "      <th>MUNICIPALITY</th>\n",
       "      <th>LAST_NAME</th>\n",
       "      <th>FIRST_NAME</th>\n",
       "      <th>OFFICE_FILLED</th>\n",
       "      <th>VOTES_FOR_CANDIDATE</th>\n",
       "      <th>VOTES_FOR_OFFICE</th>\n",
       "      <th>ELECTED_OR_ACCLAIMED</th>\n",
       "      <th>COUNCIL_INCUMBENT</th>\n",
       "      <th>OFFICE_INCUMBENT</th>\n",
       "      <th>OFFICE_SUBJECT_TO_RECOUNT</th>\n",
       "      <th>INCUMBENT</th>\n",
       "      <th>VOTE_SHARE_PCT</th>\n",
       "      <th>Acclaimed</th>\n",
       "      <th>Elected</th>\n",
       "      <th>INCUMB_NO</th>\n",
       "      <th>INCUMB_YES</th>\n",
       "    </tr>\n",
       "  </thead>\n",
       "  <tbody>\n",
       "    <tr>\n",
       "      <th>0</th>\n",
       "      <td>Addington Highlands Tp</td>\n",
       "      <td>Hogg</td>\n",
       "      <td>Henry</td>\n",
       "      <td>Reeve</td>\n",
       "      <td>980.0</td>\n",
       "      <td>-0.229417</td>\n",
       "      <td>Elected</td>\n",
       "      <td>Yes</td>\n",
       "      <td>Yes</td>\n",
       "      <td>No</td>\n",
       "      <td>Yes</td>\n",
       "      <td>63.68</td>\n",
       "      <td>0</td>\n",
       "      <td>1</td>\n",
       "      <td>0</td>\n",
       "      <td>1</td>\n",
       "    </tr>\n",
       "    <tr>\n",
       "      <th>1</th>\n",
       "      <td>Addington Highlands Tp</td>\n",
       "      <td>Fritsch</td>\n",
       "      <td>Tony</td>\n",
       "      <td>Local Councillor</td>\n",
       "      <td>464.0</td>\n",
       "      <td>-0.242521</td>\n",
       "      <td>Elected</td>\n",
       "      <td>Yes</td>\n",
       "      <td>Yes</td>\n",
       "      <td>No</td>\n",
       "      <td>Yes</td>\n",
       "      <td>37.85</td>\n",
       "      <td>0</td>\n",
       "      <td>1</td>\n",
       "      <td>0</td>\n",
       "      <td>1</td>\n",
       "    </tr>\n",
       "  </tbody>\n",
       "</table>\n",
       "</div>"
      ],
      "text/plain": [
       "             MUNICIPALITY LAST_NAME FIRST_NAME     OFFICE_FILLED  \\\n",
       "0  Addington Highlands Tp      Hogg      Henry             Reeve   \n",
       "1  Addington Highlands Tp   Fritsch       Tony  Local Councillor   \n",
       "\n",
       "   VOTES_FOR_CANDIDATE  VOTES_FOR_OFFICE ELECTED_OR_ACCLAIMED  \\\n",
       "0                980.0         -0.229417              Elected   \n",
       "1                464.0         -0.242521              Elected   \n",
       "\n",
       "  COUNCIL_INCUMBENT OFFICE_INCUMBENT OFFICE_SUBJECT_TO_RECOUNT INCUMBENT  \\\n",
       "0               Yes              Yes                        No       Yes   \n",
       "1               Yes              Yes                        No       Yes   \n",
       "\n",
       "   VOTE_SHARE_PCT  Acclaimed  Elected  INCUMB_NO  INCUMB_YES  \n",
       "0           63.68          0        1          0           1  \n",
       "1           37.85          0        1          0           1  "
      ]
     },
     "execution_count": 47,
     "metadata": {},
     "output_type": "execute_result"
    }
   ],
   "source": [
    "from sklearn.preprocessing import StandardScaler\n",
    "scaler = StandardScaler()\n",
    "\n",
    "df_with_dummies['VOTES_FOR_OFFICE'] = scaler.fit_transform(df_with_dummies[['VOTES_FOR_OFFICE']])\n",
    "\n",
    "df_with_dummies.head(2)"
   ]
  },
  {
   "cell_type": "code",
   "execution_count": 49,
   "id": "6980b17d-d2a9-4b51-9068-dec62e6145ee",
   "metadata": {},
   "outputs": [
    {
     "name": "stdout",
     "output_type": "stream",
     "text": [
      "                             OLS Regression Results                            \n",
      "===============================================================================\n",
      "Dep. Variable:     VOTES_FOR_CANDIDATE   R-squared:                       0.421\n",
      "Model:                             OLS   Adj. R-squared:                  0.420\n",
      "Method:                  Least Squares   F-statistic:                     675.5\n",
      "Date:                 Fri, 17 Oct 2025   Prob (F-statistic):               0.00\n",
      "Time:                         19:07:15   Log-Likelihood:                -28360.\n",
      "No. Observations:                 2796   AIC:                         5.673e+04\n",
      "Df Residuals:                     2792   BIC:                         5.675e+04\n",
      "Df Model:                            3                                         \n",
      "Covariance Type:             nonrobust                                         \n",
      "====================================================================================\n",
      "                       coef    std err          t      P>|t|      [0.025      0.975]\n",
      "------------------------------------------------------------------------------------\n",
      "Intercept         1123.4732    328.982      3.415      0.001     478.400    1768.546\n",
      "VOTES_FOR_OFFICE  5190.8444    117.725     44.093      0.000    4960.007    5421.682\n",
      "INCUMB_YES         506.0366    241.733      2.093      0.036      32.043     980.030\n",
      "Elected            640.5026    304.075      2.106      0.035      44.269    1236.736\n",
      "==============================================================================\n",
      "Omnibus:                     5417.761   Durbin-Watson:                   1.810\n",
      "Prob(Omnibus):                  0.000   Jarque-Bera (JB):         56973781.153\n",
      "Skew:                          14.124   Prob(JB):                         0.00\n",
      "Kurtosis:                     701.747   Cond. No.                         5.52\n",
      "==============================================================================\n",
      "\n",
      "Notes:\n",
      "[1] Standard Errors assume that the covariance matrix of the errors is correctly specified.\n"
     ]
    }
   ],
   "source": [
    "Model2 = ols(\"VOTES_FOR_CANDIDATE ~ VOTES_FOR_OFFICE + INCUMB_YES + Elected\", data =df_with_dummies ).fit()  # not creating Constant-- to match the Dimensions\n",
    "print(Model2.summary())"
   ]
  },
  {
   "cell_type": "markdown",
   "id": "2bb74d21-7e4b-45c9-8a51-d18fb2b8fdd5",
   "metadata": {},
   "source": [
    "##### Findings:"
   ]
  },
  {
   "cell_type": "markdown",
   "id": "aa827073-e9aa-4c7b-bc4b-ee715f447a8e",
   "metadata": {},
   "source": [
    "* About 42.1% of the variation in VOTES_FOR_CANDIDATE is explained by VOTES_FOR_OFFICE , INCUMBENT_YES and Elected.\n",
    "\n",
    "* Regression equation for this model: `VOTES_FOR_CANDIDATE = 1123.4 + 640.5 × Elected + 5190 * VOTES_FOR_OFFICE + 506 * INCUMBENT_YES`.\n",
    "\n",
    "* `Standard error` for intercept is 328.9, `VOTES_FOR_OFFICE` is 117.7,INCUMBENT_YES is 241.7 and Elected is 304.07.\n",
    "\n",
    "* `P-value` is between 0 and 0.036."
   ]
  },
  {
   "cell_type": "code",
   "execution_count": 51,
   "id": "89ea0a68-8050-458c-ad33-16daaa86f068",
   "metadata": {},
   "outputs": [
    {
     "data": {
      "text/html": [
       "<div>\n",
       "<style scoped>\n",
       "    .dataframe tbody tr th:only-of-type {\n",
       "        vertical-align: middle;\n",
       "    }\n",
       "\n",
       "    .dataframe tbody tr th {\n",
       "        vertical-align: top;\n",
       "    }\n",
       "\n",
       "    .dataframe thead th {\n",
       "        text-align: right;\n",
       "    }\n",
       "</style>\n",
       "<table border=\"1\" class=\"dataframe\">\n",
       "  <thead>\n",
       "    <tr style=\"text-align: right;\">\n",
       "      <th></th>\n",
       "      <th>Unnamed 0</th>\n",
       "      <th>VOTES_FOR_CANDIDATE</th>\n",
       "    </tr>\n",
       "  </thead>\n",
       "  <tbody>\n",
       "    <tr>\n",
       "      <th>0</th>\n",
       "      <td>1079.146440</td>\n",
       "      <td>980.0</td>\n",
       "    </tr>\n",
       "    <tr>\n",
       "      <th>1</th>\n",
       "      <td>1011.124403</td>\n",
       "      <td>464.0</td>\n",
       "    </tr>\n",
       "    <tr>\n",
       "      <th>2</th>\n",
       "      <td>1011.124403</td>\n",
       "      <td>377.0</td>\n",
       "    </tr>\n",
       "    <tr>\n",
       "      <th>3</th>\n",
       "      <td>1066.759040</td>\n",
       "      <td>366.0</td>\n",
       "    </tr>\n",
       "    <tr>\n",
       "      <th>4</th>\n",
       "      <td>560.722393</td>\n",
       "      <td>563.0</td>\n",
       "    </tr>\n",
       "  </tbody>\n",
       "</table>\n",
       "</div>"
      ],
      "text/plain": [
       "     Unnamed 0  VOTES_FOR_CANDIDATE\n",
       "0  1079.146440                980.0\n",
       "1  1011.124403                464.0\n",
       "2  1011.124403                377.0\n",
       "3  1066.759040                366.0\n",
       "4   560.722393                563.0"
      ]
     },
     "execution_count": 51,
     "metadata": {},
     "output_type": "execute_result"
    }
   ],
   "source": [
    "Residuals1_df  = pd.DataFrame( [Model2.predict(df_with_dummies[['VOTES_FOR_OFFICE','INCUMB_YES','Elected']]) ,  df_with_dummies['VOTES_FOR_CANDIDATE'] ]).T\n",
    "Residuals1_df.head()"
   ]
  },
  {
   "cell_type": "code",
   "execution_count": 52,
   "id": "183f63ce-640f-4cfd-ad74-9d8dae162a94",
   "metadata": {},
   "outputs": [
    {
     "data": {
      "text/html": [
       "<div>\n",
       "<style scoped>\n",
       "    .dataframe tbody tr th:only-of-type {\n",
       "        vertical-align: middle;\n",
       "    }\n",
       "\n",
       "    .dataframe tbody tr th {\n",
       "        vertical-align: top;\n",
       "    }\n",
       "\n",
       "    .dataframe thead th {\n",
       "        text-align: right;\n",
       "    }\n",
       "</style>\n",
       "<table border=\"1\" class=\"dataframe\">\n",
       "  <thead>\n",
       "    <tr style=\"text-align: right;\">\n",
       "      <th></th>\n",
       "      <th>Unnamed 0</th>\n",
       "      <th>VOTES_FOR_CANDIDATE</th>\n",
       "      <th>Difference</th>\n",
       "    </tr>\n",
       "  </thead>\n",
       "  <tbody>\n",
       "    <tr>\n",
       "      <th>0</th>\n",
       "      <td>1079.146440</td>\n",
       "      <td>980.0</td>\n",
       "      <td>-99.146440</td>\n",
       "    </tr>\n",
       "    <tr>\n",
       "      <th>1</th>\n",
       "      <td>1011.124403</td>\n",
       "      <td>464.0</td>\n",
       "      <td>-547.124403</td>\n",
       "    </tr>\n",
       "    <tr>\n",
       "      <th>2</th>\n",
       "      <td>1011.124403</td>\n",
       "      <td>377.0</td>\n",
       "      <td>-634.124403</td>\n",
       "    </tr>\n",
       "    <tr>\n",
       "      <th>3</th>\n",
       "      <td>1066.759040</td>\n",
       "      <td>366.0</td>\n",
       "      <td>-700.759040</td>\n",
       "    </tr>\n",
       "    <tr>\n",
       "      <th>4</th>\n",
       "      <td>560.722393</td>\n",
       "      <td>563.0</td>\n",
       "      <td>2.277607</td>\n",
       "    </tr>\n",
       "  </tbody>\n",
       "</table>\n",
       "</div>"
      ],
      "text/plain": [
       "     Unnamed 0  VOTES_FOR_CANDIDATE  Difference\n",
       "0  1079.146440                980.0  -99.146440\n",
       "1  1011.124403                464.0 -547.124403\n",
       "2  1011.124403                377.0 -634.124403\n",
       "3  1066.759040                366.0 -700.759040\n",
       "4   560.722393                563.0    2.277607"
      ]
     },
     "execution_count": 52,
     "metadata": {},
     "output_type": "execute_result"
    }
   ],
   "source": [
    "Residuals1_df['Difference'] = Residuals1_df['VOTES_FOR_CANDIDATE'] - Residuals1_df['Unnamed 0']\n",
    "Residuals1_df.head()"
   ]
  },
  {
   "cell_type": "code",
   "execution_count": 53,
   "id": "ac6b5bdd-808b-452e-8ff6-a0c4b1e3790d",
   "metadata": {},
   "outputs": [],
   "source": [
    "Residuals1_df.rename(columns={'Unnamed 0':'predicted'}, inplace = True)"
   ]
  },
  {
   "cell_type": "code",
   "execution_count": 54,
   "id": "7b0b56e9-1ef9-4040-a5ea-85f720756272",
   "metadata": {},
   "outputs": [
    {
     "data": {
      "image/png": "[encoded data removed]",
      "text/plain": [
       "<Figure size 1000x500 with 1 Axes>"
      ]
     },
     "metadata": {},
     "output_type": "display_data"
    }
   ],
   "source": [
    "plt.figure(figsize = (10,5))\n",
    "sns.kdeplot(data = df ,x = Residuals1_df['Difference'])\n",
    "plt.title('KDE plot for Residuals')\n",
    "plt.show()"
   ]
  },
  {
   "cell_type": "markdown",
   "id": "cf65071a-c998-49db-b19d-023d78cd878e",
   "metadata": {},
   "source": [
    "##### Findings:"
   ]
  },
  {
   "cell_type": "markdown",
   "id": "b2d94788-5e82-4f5e-87af-2f94febf2b48",
   "metadata": {},
   "source": [
    "* Model predictions are close to actuals for most observations"
   ]
  },
  {
   "cell_type": "code",
   "execution_count": null,
   "id": "5f58f644-5ce8-4303-b002-781ac8a20055",
   "metadata": {},
   "outputs": [],
   "source": []
  }
 ],
 "metadata": {
  "kernelspec": {
   "display_name": "Python [conda env:base] *",
   "language": "python",
   "name": "conda-base-py"
  },
  "language_info": {
   "codemirror_mode": {
    "name": "ipython",
    "version": 3
   },
   "file_extension": ".py",
   "mimetype": "text/x-python",
   "name": "python",
   "nbconvert_exporter": "python",
   "pygments_lexer": "ipython3",
   "version": "3.13.5"
  }
 },
 "nbformat": 4,
 "nbformat_minor": 5
}
